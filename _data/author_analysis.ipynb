{
 "cells": [
  {
   "cell_type": "code",
   "execution_count": 28,
   "id": "968bc70d-9f99-4c92-bc3c-750fa238cdcf",
   "metadata": {},
   "outputs": [
    {
     "name": "stdout",
     "output_type": "stream",
     "text": [
      "Total unique authors: 348\n",
      "Total unique first authors: 60\n",
      "\n",
      "Publications by Maussion, F.:\n",
      "- Recent observations and glacier modeling point towards near complete glacier loss in western Austria (Ötztal and Stubai mountain range) if 1.5 °C is not met\n",
      "- Decadal re-forecasts of glacier climatic mass balance\n",
      "- Irreversible glacier change and trough water for centuries after overshooting 1.5°C\n",
      "- Inter-model differences in 21st Century Glacier Runoff for the World’s Major River Basins\n",
      "- Glacier preservation doubled by limiting warming to 1.5°C\n",
      "- Reversal of the impact chain for actionable climate information\n",
      "- Unravelling the sources of uncertainty in glacier runoff projections in the Patagonian Andes (40–56° S)\n",
      "- Coupling a large-scale glacier and hydrological model (OGGM v1.5.3 and CWatM V1.08) – Towards an improved representation of mountain water resources in global assessments\n",
      "- Twenty-first century global glacier evolution under CMIP6 scenarios and the role of glacier-specific observations\n",
      "- Universal Differential Equations for glacier ice flow modelling\n",
      "- What is the global glacier ice volume outside the ice sheets?\n",
      "- Influence of glacier inventories on ice thickness estimates and future glacier change projections in the Tian Shan range, Central Asia\n",
      "- Exploring the impact of a frontal ablation parameterization on projected 21st-century mass change for Northern Hemisphere glaciers\n",
      "- Advances in data availability to constrain and evaluate ice dynamical models of Greenland’s tidewater peripheral glaciers\n",
      "- Global glacier change in the 21st century: Every increase in temperature matters\n",
      "- Glacier projections sensitivity to temperature-index model choices and calibration strategies\n",
      "- Projected 21st-Century Glacial Lake Evolution in High Mountain Asia\n",
      "- Process-based Estimate of Global-mean Sea-level Changes in the Common Era\n",
      "- Reconstruction of Past Glacier Changes with an Ice-Flow Glacier Model: Proof of Concept and Validation\n",
      "- Calibration of a frontal ablation parameterization applied to Greenland's peripheral calving glaciers\n",
      "- Distributed global debris thickness estimates reveal debris significantly impacts glacier mass balance\n",
      "- Partitioning the Uncertainty of Ensemble Projections of Global Glacier Mass Change\n",
      "- Bias-corrected estimates of glacier thickness in the Columbia River Basin, Canada\n",
      "- Initialization of a global glacier model based on present-day glacier geometry and past climate information: an ensemble approach\n",
      "- A consensus estimate for the ice thickness distribution of all glaciers on Earth\n",
      "- The Open Global Glacier Model (OGGM) v1.1\n",
      "- Impact of frontal ablation on the ice thickness estimation of marine-terminating glaciers in Alaska\n",
      "- Testing the consistency between changes in simulated climate and Alpine glacier length over the past millennium\n",
      "- How accurate are estimates of glacier ice thickness? Results from ITMIX, the Ice Thickness Models Intercomparison eXperiment\n"
     ]
    }
   ],
   "source": [
    "import yaml\n",
    "from collections import defaultdict\n",
    "\n",
    "def parse_authors(author_str):\n",
    "    # Replace ' and ' with ', ' so all separators are commas\n",
    "    assert ', and' in author_str\n",
    "\n",
    "    author_str = author_str.replace(', …,', ',')\n",
    "    \n",
    "    author_str = author_str.replace(', and', ', ')\n",
    "    parts = [a.strip() for a in author_str.split(',')]\n",
    "\n",
    "    # Group as pairs: \"Lastname, Initials\"\n",
    "    authors = [f\"{parts[i]}, {parts[i+1]}\" for i in range(0, len(parts), 2)]\n",
    "    return authors\n",
    "\n",
    "# Load the YAML file\n",
    "with open('publications.yml', 'r', encoding='utf-8') as f:\n",
    "    data = yaml.safe_load(f)\n",
    "\n",
    "# Initialize author dicts\n",
    "all_authors = defaultdict(list)\n",
    "first_authors = defaultdict(list)\n",
    "\n",
    "# Loop through categories and entries\n",
    "for category in data:\n",
    "    for entry in category['entries']:\n",
    "        title = entry['title']\n",
    "        author_str = entry['authors']\n",
    "\n",
    "        authors = parse_authors(author_str)\n",
    "        if not authors:\n",
    "            continue\n",
    "\n",
    "        # Track all authors\n",
    "        for author in authors:\n",
    "            all_authors[author].append(title)\n",
    "\n",
    "        # Track first author\n",
    "        first_authors[authors[0]].append(title)\n",
    "\n",
    "# Example outputs\n",
    "print(f\"Total unique authors: {len(all_authors)}\")\n",
    "print(f\"Total unique first authors: {len(first_authors)}\")\n",
    "\n",
    "# If you want to inspect one\n",
    "example = \"Maussion, F.\"\n",
    "print(f\"\\nPublications by {example}:\")\n",
    "for pub in all_authors[example]:\n",
    "    print(f\"- {pub}\")"
   ]
  },
  {
   "cell_type": "code",
   "execution_count": 29,
   "id": "d8400a7a-a7ed-42a9-9bb9-5c179f6cbc48",
   "metadata": {},
   "outputs": [
    {
     "data": {
      "text/plain": [
       "dict_keys(['Caro, A.', 'Hartl, L.', 'Kanzow, T.', 'van der Laan, L.', 'Luo, Y.', 'Mackay, J. D.', 'Malles, J.-H.', 'Schuster, L.', 'Shafeeque, M.', 'Vergnano, A.', 'Wimberly, F.', 'Zekollari, H.', 'Shutkin, T. Y.', 'Haq, F.', 'Švinka, L.', 'Pfleiderer, P.', 'Yaka, T.', 'Aguayo, R.', 'Chen, X.', 'Diaconu, C. -A.', 'Hanus, S.', 'Hu, S.', 'Kang, L.', 'Li, T.', 'Möller, M.', 'Reinthaler, J.', 'Tober, B.S.', 'Wang L, Yang S', 'Xiao, L.', 'Yang, W.', 'Zhou, B.', 'Afzal, M. M.', 'Bolibar, J.', 'Hock, R.', 'Li, F.', 'Malles, J.', 'O’Kane, T. J.', 'Pesci, M. H.', 'Recinos, B.', 'Ross, A. C.', 'Rounce, D. R.', 'Tang, S.', 'Yang, L.', 'Zhao, H.', 'Bouchayer, C.', 'Chen, W.', 'Furian, W.', 'Nidheesh, G.', 'Yang, M.', 'Dixit, A.', 'Edwards, T. L.', 'Eis, J.', 'Pronk, J. B.', 'Khadka, M.', 'Marzeion, B.', 'Parkes, D.', 'Pelto, B. M.', 'Farinotti, D.', 'Maussion, F.', 'Goosse, H.'])"
      ]
     },
     "execution_count": 29,
     "metadata": {},
     "output_type": "execute_result"
    }
   ],
   "source": [
    "first_authors.keys()"
   ]
  },
  {
   "cell_type": "code",
   "execution_count": 30,
   "id": "f8ee1ec5-a251-4a55-ae94-45baf14a8b81",
   "metadata": {},
   "outputs": [
    {
     "data": {
      "text/plain": [
       "'Farinotti, D., Brinkerhoff, D. J., Clarke, G. K. C., Fürst, J. J., Frey, H., Gantayat, P., Gillet-Chaulet, F., Girard, C., Huss, M., Leclercq, P. W., Linsbauer, A., Machguth, H., Martin, C., Maussion, F., Morlighem, M., Mosbeux, C., Pandit, A., Portmann, A., Rabatel, A., …,, Andreassen, L. M.'"
      ]
     },
     "execution_count": 30,
     "metadata": {},
     "output_type": "execute_result"
    }
   ],
   "source": [
    "author_str = author_str.replace(' and ', ', ')\n",
    "author_str"
   ]
  },
  {
   "cell_type": "code",
   "execution_count": 31,
   "id": "ce61fa38-09fd-4194-9a64-bf7c1ea032d7",
   "metadata": {},
   "outputs": [],
   "source": [
    "import pandas as pd"
   ]
  },
  {
   "cell_type": "code",
   "execution_count": 35,
   "id": "5c3fc31f-099e-4dc5-8589-6299b5062ffd",
   "metadata": {},
   "outputs": [],
   "source": [
    "# Count publications\n",
    "author_pubs = defaultdict(list)\n",
    "\n",
    "for category in data:\n",
    "    for entry in category['entries']:\n",
    "        title = entry['title']\n",
    "        authors = parse_authors(entry['authors'])\n",
    "        for author in authors:\n",
    "            author_pubs[author].append(title)\n",
    "\n",
    "# Count first-author publications\n",
    "first_author_pubs = defaultdict(list)\n",
    "\n",
    "for category in data:\n",
    "    for entry in category['entries']:\n",
    "        title = entry['title']\n",
    "        authors = parse_authors(entry['authors'])\n",
    "        if authors:\n",
    "            first_author = authors[0]\n",
    "            first_author_pubs[first_author].append(title)"
   ]
  },
  {
   "cell_type": "code",
   "execution_count": 36,
   "id": "bda24975-ad93-45b9-87d4-57fc9c2f13ed",
   "metadata": {},
   "outputs": [
    {
     "name": "stdout",
     "output_type": "stream",
     "text": [
      "author\n",
      "Maussion, F.       29\n",
      "Marzeion, B.       18\n",
      "Schuster, L.        9\n",
      "Huss, M.            7\n",
      "Champollion, N.     6\n",
      "Name: n_publications, dtype: int64\n"
     ]
    }
   ],
   "source": [
    "\n",
    "# Create a pandas Series\n",
    "pub_counts = pd.Series({author: len(titles) for author, titles in author_pubs.items()})\n",
    "pub_counts.name = \"n_publications\"\n",
    "pub_counts.index.name = \"author\"\n",
    "\n",
    "# Sort if you want\n",
    "pub_counts = pub_counts.sort_values(ascending=False)\n",
    "\n",
    "print(pub_counts.head())"
   ]
  },
  {
   "cell_type": "code",
   "execution_count": 37,
   "id": "e67ee019-1495-428c-b83e-1d0e14abb44b",
   "metadata": {},
   "outputs": [
    {
     "name": "stdout",
     "output_type": "stream",
     "text": [
      "first_author\n",
      "Yang, W.            3\n",
      "Recinos, B.         3\n",
      "Caro, A.            2\n",
      "van der Laan, L.    2\n",
      "Farinotti, D.       2\n",
      "Hartl, L.           2\n",
      "Schuster, L.        2\n",
      "Shafeeque, M.       2\n",
      "Hanus, S.           2\n",
      "Zekollari, H.       2\n",
      "Eis, J.             2\n",
      "Rounce, D. R.       2\n",
      "Tang, S.            1\n",
      "Zhao, H.            1\n",
      "Yang, L.            1\n",
      "Pesci, M. H.        1\n",
      "Ross, A. C.         1\n",
      "O’Kane, T. J.       1\n",
      "Bouchayer, C.       1\n",
      "Yang, M.            1\n",
      "Chen, W.            1\n",
      "Furian, W.          1\n",
      "Nidheesh, G.        1\n",
      "Li, F.              1\n",
      "Dixit, A.           1\n",
      "Edwards, T. L.      1\n",
      "Pronk, J. B.        1\n",
      "Khadka, M.          1\n",
      "Marzeion, B.        1\n",
      "Parkes, D.          1\n",
      "Pelto, B. M.        1\n",
      "Maussion, F.        1\n",
      "Malles, J.          1\n",
      "Zhou, B.            1\n",
      "Hock, R.            1\n",
      "Bolibar, J.         1\n",
      "Kanzow, T.          1\n",
      "Luo, Y.             1\n",
      "Mackay, J. D.       1\n",
      "Malles, J.-H.       1\n",
      "Vergnano, A.        1\n",
      "Wimberly, F.        1\n",
      "Shutkin, T. Y.      1\n",
      "Haq, F.             1\n",
      "Švinka, L.          1\n",
      "Pfleiderer, P.      1\n",
      "Yaka, T.            1\n",
      "Aguayo, R.          1\n",
      "Chen, X.            1\n",
      "Diaconu, C. -A.     1\n",
      "Hu, S.              1\n",
      "Kang, L.            1\n",
      "Li, T.              1\n",
      "Möller, M.          1\n",
      "Reinthaler, J.      1\n",
      "Tober, B.S.         1\n",
      "Wang L, Yang S      1\n",
      "Xiao, L.            1\n",
      "Afzal, M. M.        1\n",
      "Goosse, H.          1\n",
      "Name: n_publications, dtype: int64\n"
     ]
    }
   ],
   "source": [
    "# Create pandas Series\n",
    "first_author_counts = pd.Series({author: len(titles) for author, titles in first_author_pubs.items()})\n",
    "first_author_counts.name = \"n_publications\"\n",
    "first_author_counts.index.name = \"first_author\"\n",
    "\n",
    "# Optional: sort by number of publications\n",
    "first_author_counts = first_author_counts.sort_values(ascending=False)\n",
    "\n",
    "print(first_author_counts)"
   ]
  },
  {
   "cell_type": "code",
   "execution_count": 5,
   "id": "112f2425-b536-4c51-9089-baa6ace4c655",
   "metadata": {},
   "outputs": [
    {
     "data": {
      "text/plain": [
       "dict_keys(['Caro', 'A.', 'Condom', 'T.', 'Rabatel', 'Aguayo', 'R.', 'and Champollion', 'N.', 'Hartl', 'L.', 'Schmitt', 'P.', 'Schuster', 'Helfricht', 'K.', 'Abermann', 'J.', 'and Maussion', 'F.', 'Kanzow', 'et al.s', 'van der Laan', 'Vlug', 'Scaife', 'A. A.', 'Maussion', 'and Förster', 'Luo', 'Y.', 'Afzal', 'M.M.', 'and Wang', 'X.', 'Mackay', 'J. D.', 'Barrand', 'N. E.', 'Hannah', 'D. M.', 'Potter', 'E.', 'Montoya', 'and Buytaert', 'W.', 'Malles', 'J.-H.', 'Marzeion', 'B.', 'and Myers', 'P. G.', 'Rounce', 'D.', 'Ultee', 'Lacroix', 'Frölicher', 'Schleussner', 'C.F.', 'Shafeeque', 'M.', 'Möller', 'and Marzeion', 'Vergnano', 'Franco', 'and Godio', 'Wimberly', 'Huss', 'D. R.', 'Coats', 'S.', 'and Holmgren', 'Zekollari', 'H.', 'Hock', 'Compagno', 'Fujita', 'James', 'Kraaijenbrink', 'Lipscomb', 'Minallah', 'Oberrauch', 'van Tricht', 'Champollion', 'Edwards', 'Farinotti', 'Immerzeel', 'Leguy', 'G.', 'Sakai', 'Shutkin', 'T. Y.', 'Mark', 'B. G.', 'Stansell', 'N. D.', 'Cruz Encarnación', 'Brecher', 'H. H.', 'Liu', 'Z.', 'Yadav', 'and Schoessow', 'F. S.', 'Haq', 'Afreen', 'and Mark B.G.', 'Švinka', 'Karušs', 'and Lamsters', 'Pfleiderer', 'T.L.', 'Kropf', 'C.M.', 'Lamboll', 'R.D.', 'Lejeune', 'Q.', 'Lourenço', 'T.C.', 'McCaughey', 'J.W.', 'Quilcaille', 'Rogelj', 'Sanderson', 'Sillmann', 'Smith', 'C.', 'Theokritoff', 'and Schleussner', 'C-F.', 'Yaka', 'Remesan', 'Pachore', 'Schaefer', 'Leon-Muñoz', 'and Aguayo', 'García', 'and Saavedra', 'Chen', 'Yang', 'Li', 'and Liu', 'Diaconu', 'C. -A.', 'and Gottschling', 'N. M.', 'Hanus', 'Burek', 'Smilovic', 'Seibert', 'and Viviroli', 'Wada', 'Hu', 'Zhou', 'and Wu', 'Kang', 'Ding', 'Wang', 'Sun', 'An', 'Zhang', 'Che', '& Huai', 'B', 'Cholibois', 'El Menuawy', 'Heidler', 'Mou', 'Ignéczi', 'Á.', 'Zhu', 'X. X.', 'and Bamber', 'J. L.', 'Recinos', 'Rastner', 'Reinthaler', 'and Paul', 'Tober', 'B.S.', 'Christoffersen', 'M.S.', 'Holt', 'Truffer', 'and Larsen', 'Wang L', 'Yang S', 'Chen K', 'Liu S', 'Jin X', 'and Xie Y.', 'Xiao', 'Wu', 'Yi', 'Wei', 'Duan', 'and Shen', 'Chu', 'Peng', 'Hugonnet', 'Mojtabavi', 'and Farinotti', 'Zou', 'Jiang', 'and Yao', 'M. M.', 'Kong', 'Y', 'Bolibar', 'Sapienza', 'Lguensat', 'Wouters', 'and Pérez', 'B. and Nowicki', 'Yu', 'Y. and Liu', 'Kochtitzky', 'Copland', 'L. and Marzeion', \"O'Kane\", 'T. J.', 'et al.', 'Pesci', 'M. H.', 'Schulte Overberg', 'Bosshard', 'Ross', 'A. C.', 'Mendoza', 'Drenkhan', 'Baiker', 'J. R.', 'Buytaert', 'Berthier', 'Brinkerhoff', 'Menounos', 'B. and McNabb', 'R. W.', 'Tang', 'Piao', 'Krinner', 'L. Z. X.', 'Xu', 'Zhao', 'Mu', 'Tian', 'and Danzengbandian', 'Su', 'Lei', 'Bouchayer', 'Aiken', 'J. M.', 'Thøgersen', 'Renard', 'F. and Schuler', 'T. V.', 'Yao', 'Zheng', 'and Xu', 'Furian', 'and Schneider', 'Nidheesh', 'Goosse', 'Parkes', 'Goelzer', 'Anjum', 'M. N.', 'Kayastha', 'R. B.', 'Rai', 'Chu W.', 'Lui', 'and Chu', 'Dixit', 'Sahany', 'S. and Kulkarni', 'A. V.', 'T. et al.', 'Eis', 'F. and Marzeion', 'Stocker-Waldhuber', 'Seiser', '& Fischer', 'Pronk', 'J. B.', 'Bolch', 'King', 'O.', 'and Benn', 'D. I.', 'Noël', 'McNabb', 'Millan', 'Sommer', 'Braun', 'Malz', 'Mouginot', 'Seehaus', 'T. C. and Shean', 'D. E.', 'M. and Luo', 'Khadka', 'R. B. and Kayastha', 'Anderson', 'Bliss', 'Radić', 'V.', 'Shannon', 'Wal', 'R. and Zekollari', 'D. and Goosse', 'Pelto', 'B. M.', 'V. and Zeuner', 'Fürst', 'J. J.', 'Landmann', 'Machguth', '& Pandit', 'Butenko', 'Dusch', 'Fourteau', 'Gregor', 'Jarosch', 'A. H.', 'Oesterle', 'Rothenpieler', 'Wild', 'C. T.', 'Barriat', 'P.-Y.', 'Dalaiden', 'Klein', 'Pelucchi', 'and Vlug', 'D. et al.', 'Maussion, F.'])"
      ]
     },
     "execution_count": 5,
     "metadata": {},
     "output_type": "execute_result"
    }
   ],
   "source": [
    "all_authors.keys()"
   ]
  },
  {
   "cell_type": "code",
   "execution_count": null,
   "id": "c15f529d-5f73-479f-a741-dc0a80b03796",
   "metadata": {},
   "outputs": [],
   "source": []
  }
 ],
 "metadata": {
  "kernelspec": {
   "display_name": "Python 3 (ipykernel)",
   "language": "python",
   "name": "python3"
  },
  "language_info": {
   "codemirror_mode": {
    "name": "ipython",
    "version": 3
   },
   "file_extension": ".py",
   "mimetype": "text/x-python",
   "name": "python",
   "nbconvert_exporter": "python",
   "pygments_lexer": "ipython3",
   "version": "3.12.4"
  }
 },
 "nbformat": 4,
 "nbformat_minor": 5
}
